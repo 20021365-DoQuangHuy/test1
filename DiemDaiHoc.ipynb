{
  "nbformat": 4,
  "nbformat_minor": 0,
  "metadata": {
    "colab": {
      "name": "Untitled3.ipynb",
      "provenance": [],
      "collapsed_sections": [],
      "authorship_tag": "ABX9TyOOhBx7OxDdR5ODPtvA9jkz",
      "include_colab_link": true
    },
    "kernelspec": {
      "name": "python3",
      "display_name": "Python 3"
    },
    "language_info": {
      "name": "python"
    }
  },
  "cells": [
    {
      "cell_type": "markdown",
      "metadata": {
        "id": "view-in-github",
        "colab_type": "text"
      },
      "source": [
        "<a href=\"https://colab.research.google.com/github/20021365-DoQuangHuy/test1/blob/master/DiemDaiHoc.ipynb\" target=\"_parent\"><img src=\"https://colab.research.google.com/assets/colab-badge.svg\" alt=\"Open In Colab\"/></a>"
      ]
    },
    {
      "cell_type": "code",
      "metadata": {
        "id": "FTRJRLOOux_8"
      },
      "source": [
        "# Import and constant data\n",
        "from html.parser import HTMLParser\n",
        "import requests\n",
        "\n",
        "cookies = {\n",
        "    '_uidcms': '1625796369134566178',\n",
        "    '__admUTMtime': '1625796369',\n",
        "    '_ga': 'GA1.2.2028465197.1625796369',\n",
        "    '__RC': '10',\n",
        "    '__R': '1',\n",
        "    '__tb': '0',\n",
        "    '__io_first_source': 'l.facebook.com',\n",
        "    '__io': '2fcff5b2b.b58f19436_1625796370197',\n",
        "    '__gads': 'ID=07bdd37b9dcd363c:T=1625796380:S=ALNI_MYpx9-jpLYE1fMzG8o4N08kQNur1A',\n",
        "    'dable_uid': '99624651.1617643332965',\n",
        "    'AviviD_uuid': '6c0bc8bb-0a5f-4c42-82f2-5df2bf605d18',\n",
        "    'webuserid': 'dbd44d66-bd80-04b8-02be-5d037ff9f1d6',\n",
        "    'G_ENABLED_IDPS': 'google',\n",
        "    'fg_uuid': '32cdc11d9b86bbc61fc3d0f3bfddd6b1',\n",
        "    'fg_version': '3',\n",
        "    'AviviD_sw_version': '1.0.868.210701',\n",
        "    '__UF': '-1',\n",
        "    'AviviD_refresh_uuid_status': '2',\n",
        "    'fg_lastUpdate': '1625799999749',\n",
        "    '_gid': 'GA1.2.765896728.1627232275',\n",
        "    '_io_ht_r': '1',\n",
        "    '__zi': '3000.SSZzejyD3DOgXE6armOAbZMFhQQ364IOBSpnj8a7Lje_sk7mra5Mt7QVw_ZGILkOTPZijD9BNvrodUEqDG.1',\n",
        "    'fg_ucode': '5310fe154f16524635db9bf7bda512db',\n",
        "    'fg_lastModify': '1627232280636',\n",
        "    '__IP': '251258662',\n",
        "    'AviviD_show_sub': '1',\n",
        "    'AviviD_already_exist': '1',\n",
        "    'ePi.log.contentview': '^[^{^\\\\^d^\\\\^:27121116,^\\\\^v^\\\\^:^\\\\^,1093054_1,^\\\\^^}^]',\n",
        "    '__io_r': 'google.com',\n",
        "    '__io_d': '1_1252570832',\n",
        "    '__io_pr_utm_campaign': '^%^7B^%^22referrerHostname^%^22^%^3A^%^22www.google.com^%^22^%^7D',\n",
        "    '__io_session_id': '0cc0faf77.8b8b22d7c_1627266978670',\n",
        "    '__io_nav_state': '^%^7B^%^22current^%^22^%^3A^%^22^%^2Fcontent^%^2FMTA5MzA1NA^%^3D^%^3D.html^%^22^%^2C^%^22currentDomain^%^22^%^3A^%^22thanhnien.vn^%^22^%^2C^%^22previousDomain^%^22^%^3A^%^22^%^22^%^7D',\n",
        "    '__io_unique_26526': '26',\n",
        "    '__io_uh': '1',\n",
        "    '__io_visit_26526': '1',\n",
        "    '__io_unique_39233': '26',\n",
        "    '__io_visit_39233': '1',\n",
        "    '__io_lv': '1627266980220',\n",
        "    'AviviD_waterfall_status': '0',\n",
        "    'AviviD_token_retake': '0',\n",
        "    'siteCookie': '685',\n",
        "    'admpshow': 'd^%^2Ca^%^2Ca1',\n",
        "    '_gat': '1',\n",
        "    'ePi.log.zonevisit': '^[^{^\\\\^z^\\\\^:^\\\\^26^\\\\^,^\\\\^d^\\\\^:27121116^},^{^\\\\^z^\\\\^:^\\\\^273^\\\\^,^\\\\^d^\\\\^:27121124^}^]',\n",
        "    'ePi.log.sitevisit': '27121124',\n",
        "    '.ASPXANONYMOUS': 'LyVl7s_UVVaOMVFRQHg1FvxmtZNzBi3RvgUd6eAlULBnH6XlB-LF1h35r99gN6F1pmtY721u0-y4PUnQ2voodNFdVtCBS66NnF1HO0ThINTnCx45pjv2bLIX2KX9qkVzuPQ2FfjmNHa1f4wo_Za1Hw2',\n",
        "    '_gat_gtag_UA_5707772_19': '1',\n",
        "    '__uif': '__ui^%^3A-1^%^7C__uid^%^3A4727232290251258662^%^7C__create^%^3A1627232290',\n",
        "    'page_view': '5',\n",
        "    'FCCDCF': '^[^[^\\\\^AKsRol83w7KlGcVSX1t5CHZb2JtGPmEfgkM6TjlHJ8OI2PfOjc-GDvFi610mUjFHAWE1OKSbs7g16aopLprrlhJ_uw4uKw_LdtPELxEdF2sE2bouaIyGyDrw6FAOaeR66WzyIe_-iag4RkeVtLhCyQpq9FkWq_f1tw==^\\\\^^],null,^[^\\\\^^[^[^],^[^],^[^],^[^],null,null,true^]^\\\\^,1627267426410^],null,null^]',\n",
        "}\n",
        "\n",
        "headers = {\n",
        "    'authority': 'thanhnien.vn',\n",
        "    'sec-ch-ua': '^\\\\^Chromium^\\\\^;v=^\\\\^92^\\\\^, ^\\\\^',\n",
        "    'accept': '*/*',\n",
        "    'x-requested-with': 'XMLHttpRequest',\n",
        "    'sec-ch-ua-mobile': '?0',\n",
        "    'user-agent': 'Mozilla/5.0 (Windows NT 10.0; Win64; x64) AppleWebKit/537.36 (KHTML, like Gecko) Chrome/92.0.4515.107 Safari/537.36 Edg/92.0.902.55',\n",
        "    'sec-fetch-site': 'same-origin',\n",
        "    'sec-fetch-mode': 'cors',\n",
        "    'sec-fetch-dest': 'empty',\n",
        "    'referer': 'https://thanhnien.vn/giao-duc/tuyen-sinh/2021/tra-cuu-diem-thi-thpt-quoc-gia.html',\n",
        "    'accept-language': 'en-US,en;q=0.9,vi;q=0.8',\n",
        "}\n",
        "\n",
        "#NB. Original query string below. It seems impossible to parse and\n",
        "#reproduce query strings 100% accurately so the one below is given\n",
        "#in case the reproduced version is not \"correct\".\n",
        "# response = requests.get('https://thanhnien.vn/ajax/diemthi.aspx?kythi=THPT&nam=2021&city=DDT&text=19009935&top=no', headers=headers, cookies=cookies)\n"
      ],
      "execution_count": 3,
      "outputs": []
    },
    {
      "cell_type": "code",
      "metadata": {
        "id": "lCBICWiP8_pi"
      },
      "source": [
        "class AlphaCandidateHTMLParser(HTMLParser):\n",
        "    def __init__(self):\n",
        "        HTMLParser.__init__(self)\n",
        "        self.cur_list = []\n",
        "        self.count = 0\n",
        "        self.data = -1.0\n",
        "        self.read = False\n",
        "        self.sbd = []\n",
        "        self.sbd_append = False\n",
        "    def handle_starttag(self, tag, attrs):\n",
        "      if tag == 'td':\n",
        "        if self.count == 3:\n",
        "          self.sbd_append = True\n",
        "        else:\n",
        "          self.sbd_append = False\n",
        "\n",
        "        if self.count >= 6 and self.count <= 16:\n",
        "          self.read = True\n",
        "          self.data = -1.0\n",
        "        else:\n",
        "          self.read = False\n",
        "        self.count += 1\n",
        "    def handle_data(self, data):\n",
        "      if self.read:\n",
        "        self.data = float(data)\n",
        "        self.cur_list.append(self.data)\n",
        "      elif self.sbd_append:\n",
        "        self.sbd.append(data)\n",
        "    def handle_endtag(self, tag):\n",
        "      if tag == 'td':\n",
        "        if self.read and self.data == -1.0:\n",
        "          self.cur_list.append(0.0)\n",
        "      if tag == 'tr':\n",
        "        self.count = 0\n",
        "\n",
        "class alphaCandidate:\n",
        "    def __init__(self):\n",
        "      self.score_list = {\n",
        "          \"SBD\": \"\",\n",
        "          \"Toan\":0.0,\n",
        "          \"Van\": 0.0,\n",
        "          \"Ly\":0.0,\n",
        "          \"Hoa\": 0.0,\n",
        "          \"Sinh\":0.0,\n",
        "          \"Khtn\":0.0,\n",
        "          \"Su\":0.0,\n",
        "          \"Dia\":0.0,\n",
        "          \"GDCD\":0.0,\n",
        "          \"Khxh\":0.0,\n",
        "          \"Anh\":0.0,\n",
        "      }\n",
        "      self.storage = []\n",
        "    def parse_0(self, response):\n",
        "      parser = AlphaCandidateHTMLParser()\n",
        "      parser.feed(response.content.decode(\"utf-8\"))\n",
        "      #print(parser.sbd)\n",
        "      #print(parser.cur_list)\n",
        "      for i in range(int(len(parser.cur_list) / 11)):\n",
        "        score_list = {\n",
        "          \"SBD\": \"\",\n",
        "          \"Toan\":0.0,\n",
        "          \"Van\": 0.0,\n",
        "          \"Ly\":0.0,\n",
        "          \"Hoa\": 0.0,\n",
        "          \"Sinh\":0.0,\n",
        "          \"Khtn\":0.0,\n",
        "          \"Su\":0.0,\n",
        "          \"Dia\":0.0,\n",
        "          \"GDCD\":0.0,\n",
        "          \"Khxh\":0.0,\n",
        "          \"Anh\":0.0,\n",
        "        }\n",
        "        score_list[\"SBD\"] = parser.sbd[i]\n",
        "        score_list[\"Toan\"] = parser.cur_list[11 * i + 0]\n",
        "        score_list[\"Van\"] = parser.cur_list[11 * i +1]\n",
        "        score_list[\"Ly\"] = parser.cur_list[11 * i +2]\n",
        "        score_list[\"Hoa\"] = parser.cur_list[11 * i +3]\n",
        "        score_list[\"Sinh\"] = parser.cur_list[11 * i +4]\n",
        "        score_list[\"Khtn\"] = parser.cur_list[11 * i +5]\n",
        "        score_list[\"Su\"] = parser.cur_list[11 * i +6]\n",
        "        score_list[\"Dia\"] = parser.cur_list[11 * i +7]\n",
        "        score_list[\"GDCD\"] = parser.cur_list[11 * i +8]\n",
        "        score_list[\"Khxh\"] = parser.cur_list[11 * i +9]\n",
        "        score_list[\"Anh\"] = parser.cur_list[11 * i +10]\n",
        "        self.storage.append(score_list)"
      ],
      "execution_count": 40,
      "outputs": []
    },
    {
      "cell_type": "code",
      "metadata": {
        "id": "prON8ljmF-Dl"
      },
      "source": [
        "\n",
        "# SBD khong ton tai:\n",
        "#   response.content == b'\\n'\n",
        "# Thu tu cac mon:\n",
        "#   Toán (D1); \n",
        "#   Ngữ văn (D2); \n",
        "#   Vật lí (D3); \n",
        "#   Hóa học (D4); \n",
        "#   Sinh học (D5); \n",
        "#   KHTN (D6); \n",
        "#   Lịch sử (D7); \n",
        "#   Địa lí (D8); \n",
        "#   GDCD (D9); \n",
        "#   KHXH (D10); \n",
        "#   Ngoại ngữ (D11)\n",
        "def getScoreList(ma_tinh, start, end):\n",
        "  condition = True\n",
        "  sbd = start\n",
        "  BN_candidate_list = []\n",
        "  while condition:\n",
        "    sbd_str = str(ma_tinh * 10000 + int(sbd / 100))\n",
        "    params = (\n",
        "        ('kythi', 'THPT'),\n",
        "        ('nam', '2021'),\n",
        "        ('city', 'DDT'),\n",
        "        ('text', sbd_str),\n",
        "        ('top', 'no'),\n",
        "    )\n",
        "    response = requests.get('https://thanhnien.vn/ajax/diemthi.aspx', headers=headers, params=params, cookies=cookies)\n",
        "    c = alphaCandidate()\n",
        "    c.parse_0(response)\n",
        "    c.storage.reverse()\n",
        "    BN_candidate_list.extend(c.storage)\n",
        "    sbd += 100\n",
        "    if sbd > end:\n",
        "      condition = False\n",
        "\n",
        "  BN_candidate_list.reverse()\n",
        "  return BN_candidate_list\n"
      ],
      "execution_count": 59,
      "outputs": []
    },
    {
      "cell_type": "code",
      "metadata": {
        "id": "QmAXYguU4Lqb"
      },
      "source": [
        ""
      ],
      "execution_count": 60,
      "outputs": []
    },
    {
      "cell_type": "code",
      "metadata": {
        "colab": {
          "base_uri": "https://localhost:8080/",
          "height": 17
        },
        "id": "PVSKCGnG5gwB",
        "outputId": "5f1b9e88-3ada-41c9-b4e1-79f0e241364a"
      },
      "source": [
        "import csv\n",
        "from google.colab import files\n",
        "csv_file = \"Bac_Ninh.csv\"\n",
        "try:\n",
        "  # getScoreList(Ma_tinh, SBD_bat_dau, SBD_ket_thuc)\n",
        "  myList = getScoreList(19, 1, 15574)\n",
        "  myList.reverse()\n",
        "  keys = myList[0].keys()\n",
        "  with open(csv_file, 'w', newline='')  as output_file:\n",
        "      dict_writer = csv.DictWriter(output_file, keys)\n",
        "      dict_writer.writeheader()\n",
        "      dict_writer.writerows(myList)\n",
        "except IOError:\n",
        "    print(\"I/O error\")\n",
        "files.download(csv_file)"
      ],
      "execution_count": 62,
      "outputs": [
        {
          "output_type": "display_data",
          "data": {
            "application/javascript": [
              "\n",
              "    async function download(id, filename, size) {\n",
              "      if (!google.colab.kernel.accessAllowed) {\n",
              "        return;\n",
              "      }\n",
              "      const div = document.createElement('div');\n",
              "      const label = document.createElement('label');\n",
              "      label.textContent = `Downloading \"${filename}\": `;\n",
              "      div.appendChild(label);\n",
              "      const progress = document.createElement('progress');\n",
              "      progress.max = size;\n",
              "      div.appendChild(progress);\n",
              "      document.body.appendChild(div);\n",
              "\n",
              "      const buffers = [];\n",
              "      let downloaded = 0;\n",
              "\n",
              "      const channel = await google.colab.kernel.comms.open(id);\n",
              "      // Send a message to notify the kernel that we're ready.\n",
              "      channel.send({})\n",
              "\n",
              "      for await (const message of channel.messages) {\n",
              "        // Send a message to notify the kernel that we're ready.\n",
              "        channel.send({})\n",
              "        if (message.buffers) {\n",
              "          for (const buffer of message.buffers) {\n",
              "            buffers.push(buffer);\n",
              "            downloaded += buffer.byteLength;\n",
              "            progress.value = downloaded;\n",
              "          }\n",
              "        }\n",
              "      }\n",
              "      const blob = new Blob(buffers, {type: 'application/binary'});\n",
              "      const a = document.createElement('a');\n",
              "      a.href = window.URL.createObjectURL(blob);\n",
              "      a.download = filename;\n",
              "      div.appendChild(a);\n",
              "      a.click();\n",
              "      div.remove();\n",
              "    }\n",
              "  "
            ],
            "text/plain": [
              "<IPython.core.display.Javascript object>"
            ]
          },
          "metadata": {
            "tags": []
          }
        },
        {
          "output_type": "display_data",
          "data": {
            "application/javascript": [
              "download(\"download_8b084996-5107-4ae9-9adf-df14208a4288\", \"Bac_Ninh.csv\", 869303)"
            ],
            "text/plain": [
              "<IPython.core.display.Javascript object>"
            ]
          },
          "metadata": {
            "tags": []
          }
        }
      ]
    },
    {
      "cell_type": "markdown",
      "metadata": {
        "id": "gj25kBh03-l1"
      },
      "source": [
        ""
      ]
    }
  ]
}